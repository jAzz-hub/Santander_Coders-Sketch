{
  "nbformat": 4,
  "nbformat_minor": 0,
  "metadata": {
    "colab": {
      "provenance": [],
      "collapsed_sections": []
    },
    "kernelspec": {
      "name": "python3",
      "display_name": "Python 3"
    },
    "language_info": {
      "name": "python"
    }
  },
  "cells": [
    {
      "cell_type": "markdown",
      "source": [
        "# **API's:**\n",
        "\n",
        "\n",
        "*   Funcionalidade: Uma API serve para que uma aplicação acesse dados específicos pertinentes à outra aplicação que por algum motivo torna a comunicação via API's mais adequada que via base de dados ou qualquer outra forma.\n",
        "*   Tópicos explorados:\n",
        "\n",
        "      `-Cosumo de API's `\n",
        "      \n",
        "      `-Segurança`\n",
        "\n",
        "      `-Exemplos`\n",
        "      \n",
        "\n"
      ],
      "metadata": {
        "id": "xtfO5Qt1_xi5"
      }
    },
    {
      "cell_type": "markdown",
      "source": [
        "### **Consumir uma API:**\n",
        "\n",
        "\n",
        "*   1º Consultar sua documentação e funcionalidade principal.\n",
        "  *   Na documentação de uma API são encontradas as rotas nas quais pode-se realizar uma requisição à fim de alterar ou recuperar dados.\n",
        "  *   Além de informações como limites de requisições, ou detalhes de funcionamento.\n",
        "*   2º Importar a biblioteca Requests do Python, caso não tenha instalado, rode a célula para instalação abaixo:\n",
        "      \n",
        "\n"
      ],
      "metadata": {
        "id": "K1Bwzg99AsEt"
      }
    },
    {
      "cell_type": "code",
      "source": [
        "#Instalando a biblioteca requests\n",
        "!pip install requests"
      ],
      "metadata": {
        "colab": {
          "base_uri": "https://localhost:8080/"
        },
        "id": "sPI68Cb4_xXc",
        "outputId": "9a096e46-25e3-462d-9a3e-eb88c6b98368"
      },
      "execution_count": 1,
      "outputs": [
        {
          "output_type": "stream",
          "name": "stdout",
          "text": [
            "Looking in indexes: https://pypi.org/simple, https://us-python.pkg.dev/colab-wheels/public/simple/\n",
            "Requirement already satisfied: requests in /usr/local/lib/python3.7/dist-packages (2.23.0)\n",
            "Requirement already satisfied: idna<3,>=2.5 in /usr/local/lib/python3.7/dist-packages (from requests) (2.10)\n",
            "Requirement already satisfied: chardet<4,>=3.0.2 in /usr/local/lib/python3.7/dist-packages (from requests) (3.0.4)\n",
            "Requirement already satisfied: certifi>=2017.4.17 in /usr/local/lib/python3.7/dist-packages (from requests) (2022.6.15)\n",
            "Requirement already satisfied: urllib3!=1.25.0,!=1.25.1,<1.26,>=1.21.1 in /usr/local/lib/python3.7/dist-packages (from requests) (1.24.3)\n"
          ]
        }
      ]
    },
    {
      "cell_type": "markdown",
      "source": [
        "### **Requisições:**\n",
        "\n",
        "*  Após dar passar a url para a função get, a variável receberá como atributo de status_code um número, este número representa um tipo de resposta diante da requsição na url escolhida. Para entender melhor o que esse número significa consulte o link abaixo:\n",
        "  * https://en.wikipedia.org/wiki/List_of_HTTP_status_codes\n"
      ],
      "metadata": {
        "id": "LY0O4-gfDo7F"
      }
    },
    {
      "cell_type": "code",
      "execution_count": 23,
      "metadata": {
        "colab": {
          "base_uri": "https://localhost:8080/"
        },
        "id": "zsyYKD4x9Sm3",
        "outputId": "648d2dbb-b65e-4cfe-88d3-fb44b24a150a"
      },
      "outputs": [
        {
          "output_type": "stream",
          "name": "stdout",
          "text": [
            "200\n"
          ]
        }
      ],
      "source": [
        "#Importando a bibliotaca requests:\n",
        "import requests\n",
        "\n",
        "#Definindo a variável de acesso à API:\n",
        "url = 'https://api.adviceslip.com/advice'\n",
        "\n",
        "#Realizando um GET na API:\n",
        "req = requests.get(url)\n",
        "\n",
        "#Mostrando o status da requisição realizada:\n",
        "print(req.status_code)"
      ]
    },
    {
      "cell_type": "markdown",
      "source": [
        "### **Acessando dados da API:**\n",
        "\n",
        "*  Uma vez que a API envia informações em formato JSON(Javascript Object Notation) para o programa à partir da requisição feita, estes dados hão de ser traduzidos para uma estrutura de dados do tipo dicionário e retornados pelo método `json()` para a variável `req` nesse caso`. Para ler mais à respeito de JSON consulte o link abaixo:\n",
        "  * https://developer.mozilla.org/en-US/docs/Learn/JavaScript/Objects/JSON\n"
      ],
      "metadata": {
        "id": "LFqIFipuFIKt"
      }
    },
    {
      "cell_type": "code",
      "source": [
        "#Fazendo uma requisição para a api https://api.adviceslip.com/advice:\n",
        "print(req.json()['slip']['advice'])"
      ],
      "metadata": {
        "colab": {
          "base_uri": "https://localhost:8080/"
        },
        "id": "sqMOOiT5CZ-f",
        "outputId": "65d576bf-f6ba-4329-e9f3-a646ec79773b"
      },
      "execution_count": 24,
      "outputs": [
        {
          "output_type": "stream",
          "name": "stdout",
          "text": [
            "A common regret in life is wishing one had the courage to be ones true self.\n"
          ]
        }
      ]
    }
  ]
}