{
  "nbformat": 4,
  "nbformat_minor": 0,
  "metadata": {
    "colab": {
      "provenance": [],
      "collapsed_sections": []
    },
    "kernelspec": {
      "name": "python3",
      "display_name": "Python 3"
    },
    "language_info": {
      "name": "python"
    }
  },
  "cells": [
    {
      "cell_type": "markdown",
      "source": [
        "# **Funções Para Gráficos:**\n",
        "\n",
        "\n",
        "*   Kwargs\n",
        "*   Args\n",
        "\n"
      ],
      "metadata": {
        "id": "bS5RmQtq1wwN"
      }
    },
    {
      "cell_type": "code",
      "source": [
        "#Definindo função com argumentos args:\n",
        "def funcA(*args):\n",
        "  print(args,type(args))\n",
        "\n",
        "#Definindo função com argumentos kwargs:\n",
        "def funcKWA(**kwargs):\n",
        "    print(kwargs,type(kwargs))\n",
        "\n"
      ],
      "metadata": {
        "id": "ye5W1LKY2jKQ"
      },
      "execution_count": 6,
      "outputs": []
    },
    {
      "cell_type": "code",
      "source": [
        "#Executando as funções:\n",
        "funcA(3,4)\n",
        "funcKWA(pi=3.14,e=2.71)"
      ],
      "metadata": {
        "colab": {
          "base_uri": "https://localhost:8080/"
        },
        "id": "4qOha9Ch2_Hf",
        "outputId": "82d8e003-79e9-4eb6-a0be-98360f0a022f"
      },
      "execution_count": 7,
      "outputs": [
        {
          "output_type": "stream",
          "name": "stdout",
          "text": [
            "(3, 4) <class 'tuple'>\n",
            "{'pi': 3.14, 'e': 2.71} <class 'dict'>\n"
          ]
        }
      ]
    },
    {
      "cell_type": "markdown",
      "source": [
        "# **Conclusão:**\n",
        "\n",
        "\n",
        "**1.   Funções args:** realizam o processo de encapsulamento dos argumentos em uma tupla.\n",
        "\n",
        "**2.   Funções kwargs:** realizam o processo de encapsulamento dos argumentos em um dicionário. Assim é exigido que na passagem de argumentos hajam nomes de variáveis específicas sendo usadas como parâmetro da função.\n",
        "\n"
      ],
      "metadata": {
        "id": "vI45_ECh3VwR"
      }
    }
  ]
}
